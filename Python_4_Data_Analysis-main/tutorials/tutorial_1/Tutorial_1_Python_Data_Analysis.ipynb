{
 "cells": [
  {
   "cell_type": "markdown",
   "metadata": {
    "colab_type": "text",
    "id": "view-in-github"
   },
   "source": [
    "<a href=\"https://colab.research.google.com/github/SushiFou/Python_4_Data_Analysis/blob/main/tutorials/tutorial_1/Tutorial_1_Python_Data_Analysis.ipynb\" target=\"_parent\"><img src=\"https://colab.research.google.com/assets/colab-badge.svg\" alt=\"Open In Colab\"/></a>"
   ]
  },
  {
   "cell_type": "markdown",
   "metadata": {
    "id": "vDFIUnEwTEap"
   },
   "source": [
    "# Tutorial 1 - Python For Data Analysis 🐍 \n",
    "\n",
    "---\n",
    "\n",
    "## Basics of Python 🌱 "
   ]
  },
  {
   "cell_type": "markdown",
   "metadata": {
    "id": "4vZmx4svsEWM"
   },
   "source": [
    "### *Table of Contents*\n",
    "\n",
    "- [Exercise 1](#exercise-1) : List\n",
    "- [Exercise 2](#exercise-2) : Lambda\n",
    "- [Exercise 3](#exercise-3) : Dictionary\n",
    "- [Exercise 4](#exercise-4) : Tuples, Sets\n",
    "- [Exercice 5](#exercise-5) : Dates\n",
    "- [Exercise 6](#exercise-6) : File I/O\n",
    "\n",
    "If you have any questions or remarks about the course or this tutorial, feel free to contact imen.ouled_dlala@devinci.fr or yann.kervella.pro@gmail.com ! 😊"
   ]
  },
  {
   "cell_type": "markdown",
   "metadata": {
    "id": "FLqTjhd4y0Ts"
   },
   "source": [
    "### Requirements"
   ]
  },
  {
   "cell_type": "code",
   "execution_count": 10,
   "metadata": {
    "id": "690W_WeZyzqk"
   },
   "outputs": [],
   "source": [
    "from datetime import datetime, date, time, timedelta\n",
    "import pytz\n",
    "import re"
   ]
  },
  {
   "cell_type": "markdown",
   "metadata": {
    "id": "JpFs22a7YTve"
   },
   "source": [
    "<a name=\"exercise-1\">\n",
    "\n",
    "### Exercise 1 : List\n",
    "---\n",
    "\n",
    "• Write a program to print a specified list after removing the 0th, 4th and 5th elements. \n",
    "\n",
    "- *Sample List*: ['Red', 'Green', 'White', 'Black', 'Pink', 'Yellow']\n",
    "\n",
    "- *Expected Output*: ['Green', 'White', 'Black']\n",
    "\n",
    "\n"
   ]
  },
  {
   "cell_type": "code",
   "execution_count": 11,
   "metadata": {
    "id": "tll-PnLLp3Dr"
   },
   "outputs": [
    {
     "name": "stdout",
     "output_type": "stream",
     "text": [
      "['Green' 'White' 'Black']\n"
     ]
    }
   ],
   "source": [
    "import numpy as np\n",
    "def ex1(l):\n",
    "    l=np.delete(l,[0,4,5])\n",
    "    print(l)\n",
    "ex1(np.array(['Red', 'Green', 'White', 'Black', 'Pink', 'Yellow']))"
   ]
  },
  {
   "cell_type": "markdown",
   "metadata": {
    "id": "L-kRPYHtpyn6"
   },
   "source": [
    "• Write a program to check whether two lists are circularly identical.\n"
   ]
  },
  {
   "cell_type": "code",
   "execution_count": 20,
   "metadata": {
    "id": "jN8JwO1Sp3n9"
   },
   "outputs": [
    {
     "data": {
      "text/plain": [
       "True"
      ]
     },
     "execution_count": 20,
     "metadata": {},
     "output_type": "execute_result"
    }
   ],
   "source": [
    "def ex2(l1,l2):\n",
    "    result = False\n",
    "    \n",
    "    if(len(l1) != len(l2)):\n",
    "        result = False\n",
    "    N=len(l1)\n",
    "    \n",
    "    for i in range(N):\n",
    "        if(l1==l2):result=True\n",
    "            \n",
    "        x=l1[-1]\n",
    "        l1.pop(-1)\n",
    "        l1.insert(0,x)\n",
    "    return result\n",
    "ex2([1,2,3],[3,1,2])"
   ]
  },
  {
   "cell_type": "markdown",
   "metadata": {
    "id": "labqqrPEp0WZ"
   },
   "source": [
    "• Giving the following list [33, 56, 4, 80, 23, 100, 1, 0, 40, 11], write a program to extract:\n",
    "- the elements from 0 (included) to 7 (excluded)\n",
    "- the last element of the list\n",
    "- the last 3 elements of the list\n",
    "\n",
    "\n"
   ]
  },
  {
   "cell_type": "code",
   "execution_count": 14,
   "metadata": {
    "id": "KxqdxuKep4B6"
   },
   "outputs": [
    {
     "data": {
      "text/plain": [
       "array([ 0, 40, 11])"
      ]
     },
     "execution_count": 14,
     "metadata": {},
     "output_type": "execute_result"
    }
   ],
   "source": [
    "l=np.array([33, 56, 4, 80, 23, 100, 1, 0, 40, 11])\n",
    "l1=l[0:7]\n",
    "l2=l[-1]\n",
    "l3=l[-3:]\n",
    "l3"
   ]
  },
  {
   "cell_type": "markdown",
   "metadata": {
    "id": "_71yk3m5p2ZL"
   },
   "source": [
    "• Write a program to get a list, sorted in increasing order by the last element in each tuple from a given list of non-empty tuples.\n",
    "\n",
    "- *Sample List* : [(2, 5), (1, 2), (4, 4), (2, 3), (2, 1)] \n",
    "\n",
    "- *Expected Result* : [(2, 1), (1, 2), (2, 3), (4, 4), (2, 5)]"
   ]
  },
  {
   "cell_type": "code",
   "execution_count": 35,
   "metadata": {
    "id": "Kilm6EzSp4mV"
   },
   "outputs": [
    {
     "data": {
      "text/plain": [
       "[(2, 1), (1, 2), (2, 3), (4, 4), (2, 5)]"
      ]
     },
     "execution_count": 35,
     "metadata": {},
     "output_type": "execute_result"
    }
   ],
   "source": [
    "def ex1(l):\n",
    "    a=[]\n",
    "    for i in l:\n",
    "       a.append(i[0]) \n",
    "    b=[]\n",
    "    for i in l:\n",
    "        b.append(i[1]) \n",
    "    d={j:(i,j) for i,j in zip(a,b)}\n",
    "    \n",
    "    b.sort()\n",
    "    result=[]\n",
    "    for i in b:\n",
    "        result.append(d[i])\n",
    "    return result\n",
    "ex1( [(2, 5), (1, 2), (4, 4), (2, 3), (2, 1)])   "
   ]
  },
  {
   "cell_type": "code",
   "execution_count": 36,
   "metadata": {},
   "outputs": [
    {
     "data": {
      "text/plain": [
       "[(2, 1), (1, 2), (2, 3), (4, 4), (2, 5)]"
      ]
     },
     "execution_count": 36,
     "metadata": {},
     "output_type": "execute_result"
    }
   ],
   "source": [
    "l=[(2, 5), (1, 2), (4, 4), (2, 3), (2, 1)]\n",
    "sorted(l, key=lambda x:x[1])"
   ]
  },
  {
   "cell_type": "markdown",
   "metadata": {
    "id": "EzJfdnlaT0cp"
   },
   "source": [
    "<a name=\"exercise-2\">\n",
    "\n",
    "### Exercise 2\n",
    "---\n",
    "\n",
    "• Write a program to **square and cube** every number in a given list of integers using **Lambda**.\n",
    "\n",
    "- Original list of integers:\n",
    "[1, 2, 3, 4, 5, 6, 7, 8, 9, 10]\n",
    "\n",
    "- Square every number of the said list:\n",
    "[1, 4, 9, 16, 25, 36, 49, 64, 81, 100]\n",
    "\n",
    "- Cube every number of the said list:\n",
    "[1, 8, 27, 64, 125, 216, 343, 512, 729, 1000]"
   ]
  },
  {
   "cell_type": "code",
   "execution_count": 46,
   "metadata": {
    "id": "1ebs9VAuqGCX"
   },
   "outputs": [
    {
     "data": {
      "text/plain": [
       "[1, 8, 27, 64, 125, 216, 343, 512, 729, 1000]"
      ]
     },
     "execution_count": 46,
     "metadata": {},
     "output_type": "execute_result"
    }
   ],
   "source": [
    "def square_n(l,n):\n",
    "    return list(map(lambda x:x**n, l))\n",
    "square_n([1, 2, 3, 4, 5, 6, 7, 8, 9, 10],3)"
   ]
  },
  {
   "cell_type": "markdown",
   "metadata": {
    "id": "Mb25kK7nTD26"
   },
   "source": [
    "<a name=\"exercise-3\">\n",
    "\n",
    "### Exercise 3 : Dictionary\n",
    "\n",
    "---\n",
    "\n",
    "• Write a script to check whether a given key already exists in a dictionary.\n",
    "\n"
   ]
  },
  {
   "cell_type": "code",
   "execution_count": 41,
   "metadata": {
    "id": "4a11mMGSjNse"
   },
   "outputs": [],
   "source": [
    "sample_dict = {\"name\": \"Jefferson\", \"birth_date\": \"1999-21-09\", \"gender\": \"Male\"}"
   ]
  },
  {
   "cell_type": "code",
   "execution_count": 43,
   "metadata": {
    "id": "z6Lw29geqvse"
   },
   "outputs": [
    {
     "data": {
      "text/plain": [
       "True"
      ]
     },
     "execution_count": 43,
     "metadata": {},
     "output_type": "execute_result"
    }
   ],
   "source": [
    "def check(k):\n",
    "    return k in sample_dict.keys()\n",
    "check(\"name\")"
   ]
  },
  {
   "cell_type": "markdown",
   "metadata": {
    "id": "bNakccKyqyIE"
   },
   "source": [
    "• Write a program to iterate over dictionaries using for loops.\n"
   ]
  },
  {
   "cell_type": "code",
   "execution_count": 44,
   "metadata": {
    "id": "Yey6IhTiqaPQ"
   },
   "outputs": [],
   "source": [
    "def f(d):\n",
    "    for ele in d:\n",
    "        print(ele)"
   ]
  },
  {
   "cell_type": "markdown",
   "metadata": {
    "id": "lboerwu5qzhj"
   },
   "source": [
    "• Write a script to generate and print a dictionary that contains a number (between 1 and n) in the form (x, x*x).\n",
    "\n",
    "- Sample Dictionary: (n = 5)\n",
    "- Expected Output: {1: 1, 2: 4, 3: 9, 4: 16, 5: 25}\n"
   ]
  },
  {
   "cell_type": "code",
   "execution_count": 53,
   "metadata": {
    "id": "WaMO5zivqz1c"
   },
   "outputs": [
    {
     "data": {
      "text/plain": [
       "{1: 1, 2: 4, 3: 9, 4: 16, 5: 25}"
      ]
     },
     "execution_count": 53,
     "metadata": {},
     "output_type": "execute_result"
    }
   ],
   "source": [
    "def f(n):\n",
    "    result={i:i*i for i in range(1,n+1)}\n",
    "    return result\n",
    "f(5)"
   ]
  },
  {
   "cell_type": "markdown",
   "metadata": {
    "id": "LUlJTVINq34S"
   },
   "source": [
    "• Write a program to map two lists into a dictionary."
   ]
  },
  {
   "cell_type": "code",
   "execution_count": 2,
   "metadata": {
    "id": "sSIY9O9wjUK9"
   },
   "outputs": [],
   "source": [
    "list1 = [\"name\", \"birth_date\", \"gender\"]\n",
    "list2 = [\"Jessica\", \"1999-04-05\", \"Female\"]"
   ]
  },
  {
   "cell_type": "code",
   "execution_count": 4,
   "metadata": {
    "id": "YfuVeqCgq4jF"
   },
   "outputs": [
    {
     "data": {
      "text/plain": [
       "{'name': 'Jessica', 'birth_date': '1999-04-05', 'gender': 'Female'}"
      ]
     },
     "execution_count": 4,
     "metadata": {},
     "output_type": "execute_result"
    }
   ],
   "source": [
    "result=dict(zip(list1,list2))\n",
    "result"
   ]
  },
  {
   "cell_type": "markdown",
   "metadata": {
    "id": "RfTIualkqLuO"
   },
   "source": [
    "<a name=\"exercise-4\">\n",
    "\n",
    "### Exercise 4 : Tuples & Sets\n",
    "\n",
    "---\n",
    "• Write a program to compute element-wise sum of given tuples. \n",
    "- Original lists:\n",
    "(1, 2, 3, 4) (3, 5, 2, 1) (2, 2, 3, 1)\n",
    "- Element-wise sum of the said tuples:\n",
    "(6, 9, 8, 6)"
   ]
  },
  {
   "cell_type": "code",
   "execution_count": 40,
   "metadata": {
    "id": "HX51VZZTqai7"
   },
   "outputs": [
    {
     "data": {
      "text/plain": [
       "(6, 9, 8, 6)"
      ]
     },
     "execution_count": 40,
     "metadata": {},
     "output_type": "execute_result"
    }
   ],
   "source": [
    "def f(*args):\n",
    "    return tuple(map(sum,zip(*args)))\n",
    "f((1, 2, 3, 4),(3, 5, 2, 1),(2, 2, 3, 1))"
   ]
  },
  {
   "cell_type": "markdown",
   "metadata": {
    "id": "c8JK4pWBrDXY"
   },
   "source": [
    "• Write a Python program to convert a tuple to a dictionary"
   ]
  },
  {
   "cell_type": "code",
   "execution_count": null,
   "metadata": {
    "id": "-bmqgodFrENX"
   },
   "outputs": [],
   "source": []
  },
  {
   "cell_type": "markdown",
   "metadata": {
    "id": "pLvO5ho7qMIq"
   },
   "source": [
    "<a name=\"exercise-5\">\n",
    "\n",
    "### Exercise 5 : Dates\n",
    "\n",
    "---\n",
    "• Write a Python program to get the current time. \n",
    "- Sample Format: 13:19:49.078205"
   ]
  },
  {
   "cell_type": "code",
   "execution_count": 59,
   "metadata": {
    "id": "Kpi8L46Aqa2n"
   },
   "outputs": [
    {
     "name": "stdout",
     "output_type": "stream",
     "text": [
      "23:41:47.562982\n"
     ]
    }
   ],
   "source": [
    "from datetime import datetime\n",
    "\n",
    "now = datetime.now().time()\n",
    "print(now)\n",
    "\n",
    "#current_time = now.strftime(\"%H:%M:%S\")\n",
    "#print(\"Current Time =\", current_time)"
   ]
  },
  {
   "cell_type": "markdown",
   "metadata": {
    "id": "9jSxS7yGrJdy"
   },
   "source": [
    "• Write a Python program to subtract five days from current date. \n",
    "- Sample Date:\n",
    "- Current Date: 2015-06-22\n",
    "- 5 days before Current Date : 2015-06-1"
   ]
  },
  {
   "cell_type": "code",
   "execution_count": 68,
   "metadata": {
    "id": "xmGmeZzGrJxT"
   },
   "outputs": [
    {
     "name": "stdout",
     "output_type": "stream",
     "text": [
      "Currect time:  2022-09-20 23:48:17.312627\n",
      "apres modif:   2022-09-20 18:48:17.312627\n"
     ]
    }
   ],
   "source": [
    "from datetime import datetime, timedelta\n",
    "print(\"Currect time: \", datetime.now())\n",
    "result=datetime.now() + timedelta(hours=-5)\n",
    "print(\"apres modif:  \", result)"
   ]
  },
  {
   "cell_type": "markdown",
   "metadata": {
    "id": "jf5pU_5frJ9k"
   },
   "source": [
    "• Write a Python program to print yesterday, today, tomorrow"
   ]
  },
  {
   "cell_type": "code",
   "execution_count": 70,
   "metadata": {
    "id": "pnfsJE_DrLN7"
   },
   "outputs": [
    {
     "name": "stdout",
     "output_type": "stream",
     "text": [
      "2022-09-19 23:50:01.368859 \n",
      " 2022-09-20 23:50:01.368859 \n",
      " 2022-09-21 23:50:01.368859\n"
     ]
    }
   ],
   "source": [
    "today=datetime.now()\n",
    "print(datetime.now() + timedelta(days=-1),'\\n', datetime.now(),'\\n',datetime.now() + timedelta(days=1))"
   ]
  },
  {
   "cell_type": "markdown",
   "metadata": {
    "id": "9PDdb6vqrLcJ"
   },
   "source": [
    "• Write a Python program to get week number.\n",
    "- Sample Date : 2015, 6, 16 \n",
    "- Expected Output : 25"
   ]
  },
  {
   "cell_type": "code",
   "execution_count": 72,
   "metadata": {
    "id": "jwEi-R9jrL1y"
   },
   "outputs": [
    {
     "name": "stdout",
     "output_type": "stream",
     "text": [
      "25\n"
     ]
    }
   ],
   "source": [
    "import datetime\n",
    "\n",
    "print(datetime.date(2015, 6, 16).isocalendar()[1])"
   ]
  },
  {
   "cell_type": "markdown",
   "metadata": {
    "id": "Ax4N_WSLrdA7"
   },
   "source": [
    "• Write a Python program to calculate a number of days between two dates"
   ]
  },
  {
   "cell_type": "code",
   "execution_count": 75,
   "metadata": {
    "id": "AeMcc8ePrd95"
   },
   "outputs": [
    {
     "name": "stdout",
     "output_type": "stream",
     "text": [
      "43220\n"
     ]
    }
   ],
   "source": [
    "first_date = datetime.date(1904, 2, 1)\n",
    "last_date = datetime.date(2022, 6, 1)\n",
    "result = last_date - first_date\n",
    "print(result.days)\n"
   ]
  },
  {
   "cell_type": "markdown",
   "metadata": {
    "id": "CyHCE-dZqMb-"
   },
   "source": [
    "<a name=\"exercise-6\">\n",
    "\n",
    "### Exercise 6 : File I/O\n",
    "\n",
    "---\n",
    "• Write a Python program to count the number of lines in a text file"
   ]
  },
  {
   "cell_type": "code",
   "execution_count": 82,
   "metadata": {
    "id": "t98dO2T0qbHK"
   },
   "outputs": [
    {
     "ename": "AttributeError",
     "evalue": "'_io.TextIOWrapper' object has no attribute 'line'",
     "output_type": "error",
     "traceback": [
      "\u001b[1;31m---------------------------------------------------------------------------\u001b[0m",
      "\u001b[1;31mAttributeError\u001b[0m                            Traceback (most recent call last)",
      "\u001b[1;32mC:\\Users\\AURLIE~1\\AppData\\Local\\Temp/ipykernel_8420/1428432429.py\u001b[0m in \u001b[0;36m<module>\u001b[1;34m\u001b[0m\n\u001b[0;32m      5\u001b[0m                 \u001b[0mresult\u001b[0m\u001b[1;33m+=\u001b[0m\u001b[1;36m1\u001b[0m\u001b[1;33m\u001b[0m\u001b[1;33m\u001b[0m\u001b[0m\n\u001b[0;32m      6\u001b[0m     \u001b[1;32mreturn\u001b[0m \u001b[0mresult\u001b[0m\u001b[1;33m\u001b[0m\u001b[1;33m\u001b[0m\u001b[0m\n\u001b[1;32m----> 7\u001b[1;33m \u001b[0mprint\u001b[0m\u001b[1;33m(\u001b[0m\u001b[1;34m\"Number of lines in the file: \"\u001b[0m\u001b[1;33m,\u001b[0m\u001b[0mf\u001b[0m\u001b[1;33m(\u001b[0m\u001b[1;34m\"test.txt\"\u001b[0m\u001b[1;33m)\u001b[0m\u001b[1;33m)\u001b[0m\u001b[1;33m\u001b[0m\u001b[1;33m\u001b[0m\u001b[0m\n\u001b[0m",
      "\u001b[1;32mC:\\Users\\AURLIE~1\\AppData\\Local\\Temp/ipykernel_8420/1428432429.py\u001b[0m in \u001b[0;36mf\u001b[1;34m(fname)\u001b[0m\n\u001b[0;32m      2\u001b[0m     \u001b[0mresult\u001b[0m\u001b[1;33m=\u001b[0m\u001b[1;36m0\u001b[0m\u001b[1;33m\u001b[0m\u001b[1;33m\u001b[0m\u001b[0m\n\u001b[0;32m      3\u001b[0m     \u001b[1;32mwith\u001b[0m \u001b[0mopen\u001b[0m\u001b[1;33m(\u001b[0m\u001b[0mfname\u001b[0m\u001b[1;33m,\u001b[0m\u001b[1;34m'a'\u001b[0m\u001b[1;33m)\u001b[0m \u001b[1;32mas\u001b[0m \u001b[0mf\u001b[0m\u001b[1;33m:\u001b[0m\u001b[1;33m\u001b[0m\u001b[1;33m\u001b[0m\u001b[0m\n\u001b[1;32m----> 4\u001b[1;33m             \u001b[1;32mfor\u001b[0m \u001b[0mx\u001b[0m \u001b[1;32min\u001b[0m \u001b[0mf\u001b[0m\u001b[1;33m.\u001b[0m\u001b[0mline\u001b[0m\u001b[1;33m:\u001b[0m\u001b[1;33m\u001b[0m\u001b[1;33m\u001b[0m\u001b[0m\n\u001b[0m\u001b[0;32m      5\u001b[0m                 \u001b[0mresult\u001b[0m\u001b[1;33m+=\u001b[0m\u001b[1;36m1\u001b[0m\u001b[1;33m\u001b[0m\u001b[1;33m\u001b[0m\u001b[0m\n\u001b[0;32m      6\u001b[0m     \u001b[1;32mreturn\u001b[0m \u001b[0mresult\u001b[0m\u001b[1;33m\u001b[0m\u001b[1;33m\u001b[0m\u001b[0m\n",
      "\u001b[1;31mAttributeError\u001b[0m: '_io.TextIOWrapper' object has no attribute 'line'"
     ]
    }
   ],
   "source": [
    "def f(fname):\n",
    "    result=0\n",
    "    with open(fname,'a') as f:\n",
    "            for x in f.line:\n",
    "                result+=1\n",
    "    return result\n",
    "print(\"Number of lines in the file: \",f(\"test.txt\"))"
   ]
  },
  {
   "cell_type": "markdown",
   "metadata": {
    "id": "n19_Rg0sqf6H"
   },
   "source": [
    "• Write a Python program to assess if a file is closed or not\n"
   ]
  },
  {
   "cell_type": "code",
   "execution_count": 78,
   "metadata": {
    "id": "6VKrc_1NqhKY"
   },
   "outputs": [
    {
     "name": "stdout",
     "output_type": "stream",
     "text": [
      "False\n",
      "True\n"
     ]
    }
   ],
   "source": [
    " f = open('test.txt','a')\n",
    "print(f.closed)\n",
    "f.close()\n",
    "print(f.closed)"
   ]
  },
  {
   "cell_type": "markdown",
   "metadata": {
    "id": "WxgHAFb4qhnC"
   },
   "source": [
    "• Write a Python program to append text to a file and display the text\n"
   ]
  },
  {
   "cell_type": "code",
   "execution_count": 86,
   "metadata": {
    "id": "OR-DpP9BqivV"
   },
   "outputs": [
    {
     "name": "stdout",
     "output_type": "stream",
     "text": [
      "ceci est un test test test ok OKtext text\n"
     ]
    }
   ],
   "source": [
    "with open(\"test.txt\", \"a\") as f:\n",
    "   f.write(\" text\")\n",
    "with open(\"test.txt\", \"r\") as f:\n",
    "    print(f.read())"
   ]
  },
  {
   "cell_type": "markdown",
   "metadata": {
    "id": "ZEt-WWckqjSN"
   },
   "source": [
    "• Write a Python program to count the frequency of words in a file."
   ]
  },
  {
   "cell_type": "code",
   "execution_count": 87,
   "metadata": {
    "id": "fWXNHF6LqkId"
   },
   "outputs": [
    {
     "name": "stdout",
     "output_type": "stream",
     "text": [
      "Number of words in the file : Counter({'test': 6, 'est': 2, 'un': 2, 'ok': 2, 'ceci': 1, 'OKtext': 1, 'textceci': 1, 'OK': 1})\n"
     ]
    }
   ],
   "source": [
    "from collections import Counter\n",
    "\n",
    "def word_count(fname):\n",
    "        with open(fname) as f:\n",
    "                return Counter(f.read().split())\n",
    "\n",
    "            \n",
    "            \n",
    "with open(\"test.txt\", \"a\") as f:\n",
    "   f.write(\"ceci est un test test test ok OK\")\n",
    "print(\"Number of words in the file :\",word_count(\"test.txt\"))\n"
   ]
  },
  {
   "cell_type": "markdown",
   "metadata": {
    "id": "GhMKdGQwi9gA"
   },
   "source": [
    "## Good job, you finished the first tutorial ! 😎"
   ]
  }
 ],
 "metadata": {
  "colab": {
   "authorship_tag": "ABX9TyOsk8AdOFOg/2ese/ifSCq3",
   "include_colab_link": true,
   "name": "Tutorial_1_Python_Data_Analysis.ipynb",
   "provenance": [],
   "toc_visible": true
  },
  "kernelspec": {
   "display_name": "Python 3 (ipykernel)",
   "language": "python",
   "name": "python3"
  },
  "language_info": {
   "codemirror_mode": {
    "name": "ipython",
    "version": 3
   },
   "file_extension": ".py",
   "mimetype": "text/x-python",
   "name": "python",
   "nbconvert_exporter": "python",
   "pygments_lexer": "ipython3",
   "version": "3.9.7"
  },
  "vscode": {
   "interpreter": {
    "hash": "b0fa6594d8f4cbf19f97940f81e996739fb7646882a419484c72d19e05852a7e"
   }
  }
 },
 "nbformat": 4,
 "nbformat_minor": 1
}
